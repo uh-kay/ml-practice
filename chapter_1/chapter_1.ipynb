{
 "cells": [
  {
   "cell_type": "code",
   "execution_count": null,
   "metadata": {},
   "outputs": [],
   "source": [
    "import matplotlib.pyplot as plt\n",
    "import numpy as np\n",
    "import pandas as pd\n",
    "from sklearn.linear_model import LinearRegression\n",
    "# Download and prepare the data\n",
    "data_root = \"https://github.com/ageron/data/raw/main/\"\n",
    "lifesat = pd.read_csv(data_root + \"lifesat/lifesat.csv\")\n",
    "X = lifesat[[\"GDP per capita (USD)\"]].values\n",
    "y = lifesat[[\"Life satisfaction\"]].values\n",
    "# Visualize the data\n",
    "lifesat.plot(kind='scatter', grid=True,\n",
    "x=\"GDP per capita (USD)\", y=\"Life satisfaction\")\n",
    "plt.axis([23_500, 62_500, 4, 9])\n",
    "plt.show()\n",
    "# Select a linear model\n",
    "model = LinearRegression()\n",
    "# Train the model\n",
    "model.fit(X, y)\n",
    "# Make a prediction for Cyprus\n",
    "X_new = [[37_655.2]] # Cyprus' GDP per capita in 2020\n",
    "print(model.predict(X_new)) # output: [[6.30165767]]"
   ]
  },
  {
   "cell_type": "markdown",
   "metadata": {},
   "source": [
    "# Exercise List\n",
    "\n",
    "1. How would you define machine learning?\n",
    "2. Can you name four types of applications where it shines?\n",
    "3. What is a labeled training set?\n",
    "4. What are the two most common supervised tasks?\n",
    "5. Can you name four common unsupervised tasks?\n",
    "6. What type of algorithm would you use to allow a robot to walk in various \n",
    "unknown terrains?\n",
    "7. What type of algorithm would you use to segment your customers into \n",
    "multiple groups?\n",
    "8. Would you frame the problem of spam detection as a supervised learning \n",
    "problem or an unsupervised learning problem?\n",
    "9. What is an online learning system?\n",
    "10. What is out-of-core learning?\n",
    "11. What type of algorithm relies on a similarity measure to make predictions?\n",
    "12. What is the difference between a model parameter and a model \n",
    "hyperparameter?\n",
    "13. What do model-based algorithms search for? What is the most common strategy\n",
    "they use to succeed? How do they make predictions?\n",
    "14. Can you name four of the main challenges in machine learning?\n",
    "15. If your model performs great on the training data but generalizes poorly \n",
    "to new instances, what is happening? Can you name three possible solutions?\n",
    "16. What is a test set, and why would you want to use it?\n",
    "17. What is the purpose of a validation set?\n",
    "18. What is the train-dev set, when do you need it, and how do you use it?\n",
    "19. What can go wrong if you tune hyperparameters using the test set?"
   ]
  },
  {
   "cell_type": "markdown",
   "metadata": {},
   "source": [
    "# Solution\n",
    "\n",
    "1. Machine learning is the science of programming computers to be able to learn from a dataset and make predictions.\n",
    "2. Four types of application where machine learning shines: complex solution with no algorithmic solution, to replace long lists of hand-tuned rules, to build systems that adapt to changing environments, and to help humans learn.\n",
    "3. A labeled training set is a training set that contains the desired solution of each instance.\n",
    "4. Two most common supervised tasks are classification and regression."
   ]
  }
 ],
 "metadata": {
  "language_info": {
   "name": "python"
  }
 },
 "nbformat": 4,
 "nbformat_minor": 2
}
